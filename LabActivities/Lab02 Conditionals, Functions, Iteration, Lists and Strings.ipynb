{
 "cells": [
  {
   "cell_type": "markdown",
   "metadata": {},
   "source": [
    "## Lab 2: Conditionals, Functions, Iteration, Lists and Strings."
   ]
  },
  {
   "cell_type": "markdown",
   "metadata": {},
   "source": [
    "Rename your notebook as this: \"l02_lastname_firstname\" and submit to Canvas in the \"Conditionals, Functions, Iteration, Lists and Strings\" assignment section."
   ]
  },
  {
   "cell_type": "markdown",
   "metadata": {},
   "source": [
    "### Exercise 1 (3 points): Iterations and lists"
   ]
  },
  {
   "cell_type": "markdown",
   "metadata": {},
   "source": [
    "Write a function called divisors() that receives a number, x, and returns a list of all the divisors of x. The list should include 1 and the number x itself. For example, divisors(10) should return the list [1, 2, 5, 10]."
   ]
  },
  {
   "cell_type": "code",
   "execution_count": null,
   "metadata": {},
   "outputs": [],
   "source": []
  },
  {
   "cell_type": "markdown",
   "metadata": {},
   "source": [
    "### Exercise 2 (3 points): Conditionals and Random Number Generation"
   ]
  },
  {
   "cell_type": "markdown",
   "metadata": {},
   "source": [
    "Write a function called guess() that implements a simple number-guessing game. When the function is ran, it should pick a random number from 0 to 100. It should then ask the user for a guess. If the user’s guess is different from the picked number it should tell the user whether their guess was too high or too low, and then prompt them to guess again - until they’ve guessed the number correctly."
   ]
  },
  {
   "cell_type": "code",
   "execution_count": null,
   "metadata": {},
   "outputs": [],
   "source": []
  },
  {
   "cell_type": "markdown",
   "metadata": {},
   "source": [
    "### Exercise 3 (3 points): Words and Files"
   ]
  },
  {
   "cell_type": "markdown",
   "metadata": {},
   "source": [
    "The New York Times has a Spelling Bee puzzle (https://www.nytimes.com/puzzles/spelling-bee). These are the rules of the game: The \"hive\" is a set of 7 letters. The \"key\" is the center letter of the hive. Users can create words using only letters from the \"hive\". Words must contain at least 4 letters. Words must include the \"key\" letter. All letters can be used more than once. Write a function called bee() that receives the \"hive\" in the form of a seven letter word (e.g., \"yglpote\") where the center one \"p\" is the \"key\" and the rest of the letters are the rest of the letters in the hive. The function should read the list of all words available on Canvas and filter them to show only the ones that meet the criteria set out by the game. For the example \"hive\" given above, the function should find words like polyglot, lollypop, topology, logotype, etc. Have fun with it and make sure to show your creation to puzzle-loving family and friends!"
   ]
  },
  {
   "cell_type": "code",
   "execution_count": null,
   "metadata": {},
   "outputs": [],
   "source": []
  },
  {
   "cell_type": "markdown",
   "metadata": {},
   "source": [
    "### Exercise 4 (3 points): Object-Oriented Programming"
   ]
  },
  {
   "cell_type": "markdown",
   "metadata": {},
   "source": [
    "Create an object-oriented class called randomwalker() that represents an agent performing a \"drunken walk\" around a 2D space. The random walker agent will have three attributes: a position in the x dimension, a position in the y dimension, and an orientation or heading. The agent  always start at \"home,\" which is at the origin of the space (x=0, y=0). The agent has a method called step(). With every step, the agent chooses a random orientation (between 0 and 360 degrees) and takes a step in their new direction. The distance of the step is always the same - we refer to this as the velocity of the agent (let's assume for simplicity that the velocity of this agent is v=1.0). Given the current position of the agent and an orientation, one can calculate the new position using this formula: x' = x + v * cos(o) and y' = y + v * sin(o), x' and y' are the new positions, v is the agent's velocity, and o is the agent's orientation in radians (0 to 2Pi). Use the randomwalker() class that you just created to calculate, on average, how far is the random walker from home after 100 steps. To calculate the average distance, you might want to run the simulation multiple times (e.g., N=10,100,1000,..). Discuss your findings. "
   ]
  },
  {
   "cell_type": "code",
   "execution_count": null,
   "metadata": {},
   "outputs": [],
   "source": [
    "class randomwalker():\n",
    "    \n",
    "    def __init__(self):\n",
    "        ### your code here\n",
    "    \n",
    "    def step(self):\n",
    "        ### your code here\n",
    "        \n",
    "    def distancefromhome(self):\n",
    "        ### your code here"
   ]
  }
 ],
 "metadata": {
  "kernelspec": {
   "display_name": "Python 3",
   "language": "python",
   "name": "python3"
  },
  "language_info": {
   "codemirror_mode": {
    "name": "ipython",
    "version": 3
   },
   "file_extension": ".py",
   "mimetype": "text/x-python",
   "name": "python",
   "nbconvert_exporter": "python",
   "pygments_lexer": "ipython3",
   "version": "3.7.4"
  }
 },
 "nbformat": 4,
 "nbformat_minor": 4
}
