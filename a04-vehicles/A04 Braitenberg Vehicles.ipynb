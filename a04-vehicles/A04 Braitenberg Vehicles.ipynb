{
 "cells": [
  {
   "cell_type": "markdown",
   "metadata": {},
   "source": [
    "## A04 Braitenberg Vehicles: Open Ended"
   ]
  },
  {
   "cell_type": "markdown",
   "metadata": {},
   "source": [
    "This experiment takes place in a 2D space.  There is a Braitenberg vehicle that always starts in the middle of the room (i.e., at the origin x=0,y=0) with a random orientation/heading. The vehicle has two sensors and two motors. The sensors are placed on the left and right of the body of the vehicle and they can sense the intensity of light in their immediate vecinity. The closer a sensor is to the light, the higher the intensity of the sensory stimuli (from 0 dark to 1 light). The motors are placed on the left and right hand sides of the vehicle and can drive the vehicle forward (if both left and right are set to 1), left (if left is set to lower value than right), and right (if right is set to lower value than left). The motors can only be set to values between 0 and 1. During an experiment, a light source is placed at a random location in the environment. The light is placed always the same distance from the vehicle (10 units of space away from the vehicle) but with a different angle (the angle chosen at random). \n",
    "\n",
    "The class below implements the vehicle and the light. It is missing the contents of the \"think\" method, which allow the agent to use the sensory information to make the motors do something. Everything else is implemented."
   ]
  },
  {
   "cell_type": "code",
   "execution_count": 1,
   "metadata": {},
   "outputs": [],
   "source": [
    "import numpy as np"
   ]
  },
  {
   "cell_type": "code",
   "execution_count": 2,
   "metadata": {},
   "outputs": [],
   "source": [
    "class Vehicle:\n",
    "\n",
    "    def __init__(self):\n",
    "        \n",
    "        self.xpos = 0.0                                       # agent's x position, starts in middle of world\n",
    "        self.ypos = 0.0                                       # agent's y position, starts in middle of world\n",
    "        self.orientation = np.random.random()*2*np.pi         # agent's orientation, starts at random\n",
    "        self.velocity = 0.0                                   # agent's velocity, starts at 0\n",
    "        self.radius = 1.0                                     # the size/radius of the vehicle\n",
    "        self.leftsensor = 0.0                                 # left sensor value\n",
    "        self.rightsensor = 0.0                                # right sensor value\n",
    "        self.leftmotor  = 1.0                                 # left motor output\n",
    "        self.rightmotor = 1.0                                 # right motor output\n",
    "        \n",
    "        # Attributes to determine the placement of the sensors\n",
    "        self.angleoffset = np.pi/2                                                 # left/right sensor angle offset\n",
    "        self.rs_xpos = self.radius * np.cos(self.orientation + self.angleoffset)   # right sensor x position\n",
    "        self.rs_ypos = self.radius * np.sin(self.orientation + self.angleoffset)   # right sensor y position\n",
    "        self.ls_xpos = self.radius * np.cos(self.orientation - self.angleoffset)   # left sensor x position\n",
    "        self.ls_ypos = self.radius * np.sin(self.orientation - self.angleoffset)   # left sensor y position\n",
    "\n",
    "    def sense(self,light):\n",
    "        \n",
    "        # Calculate the distance of the light for each of the sensors\n",
    "        self.leftsensor = 1 - np.sqrt((self.ls_xpos-light.x)**2 + (self.ls_ypos-light.y)**2)/10\n",
    "        self.leftsensor = np.clip(self.leftsensor,0,1)\n",
    "        self.rightsensor = 1 - np.sqrt((self.rs_xpos-light.x)**2 + (self.rs_ypos-light.y)**2)/10\n",
    "        self.rightsensor = np.clip(self.rightsensor,0,1)\n",
    "\n",
    "    def think(self):\n",
    "        ## Delete the pass command and add your code in this method\n",
    "        ## In particular, think about activating the right and left motors \n",
    "        ## in the way that would make the vehicle move towards the light source\n",
    "        ## (but also, feel free to change anything else in the code)\n",
    "        pass\n",
    "\n",
    "    def move(self):\n",
    "        \n",
    "        # Update the orientation and velocity of the vehicle based on the left and right motors\n",
    "        self.rightmotor = np.clip(self.rightmotor,0,1)\n",
    "        self.leftmotor  = np.clip(self.leftmotor,0,1)\n",
    "        self.orientation += ((self.leftmotor - self.rightmotor)/10) + np.random.normal(0,0.1)\n",
    "        self.velocity = ((self.rightmotor + self.leftmotor)/2)/50\n",
    "        \n",
    "        # Update position of the agent\n",
    "        self.xpos += self.velocity * np.cos(self.orientation) \n",
    "        self.ypos += self.velocity * np.sin(self.orientation)  \n",
    "        \n",
    "        # Update position of the sensors\n",
    "        self.rs_xpos = self.xpos + self.radius * np.cos(self.orientation + self.angleoffset)\n",
    "        self.rs_ypos = self.ypos + self.radius * np.sin(self.orientation + self.angleoffset)\n",
    "        self.ls_xpos = self.xpos + self.radius * np.cos(self.orientation - self.angleoffset)\n",
    "        self.ls_ypos = self.ypos + self.radius * np.sin(self.orientation - self.angleoffset)\n",
    "\n",
    "    def distance(self,light):\n",
    "        return np.sqrt((self.x-light.x)**2 + (self.y-light.y)**2)\n",
    "\n",
    "class Light:  \n",
    "\n",
    "    def __init__(self):\n",
    "        angle = np.random.random()*2*np.pi\n",
    "        self.x = 10.0 * np.cos(angle)\n",
    "        self.y = 10.0 * np.sin(angle)"
   ]
  },
  {
   "cell_type": "markdown",
   "metadata": {},
   "source": [
    "(3 points) Your job is to \"wire up\" the insides of this Braitenberg vehicle so that it can find the light. That is, your job is to go into the \"think\" method and set the right and left motors to something, presumably based on the sensory information. In the next cell, tell us how are you going to take in the sensory input and process it or transform it into motor output, so that the vehicle finds the light? Explain your desired solution before writing the code for it. "
   ]
  },
  {
   "cell_type": "code",
   "execution_count": null,
   "metadata": {},
   "outputs": [],
   "source": []
  },
  {
   "cell_type": "markdown",
   "metadata": {},
   "source": [
    "Once you've coded up your vehicle, there are a couple of things we would like to know and see from your vehicle.  First, what does one trajectory of this vehicle look like from a bird’s eye view? Does it find the light? If it does, tell us what change causes it to go towards the light and away from the light. Does the agent need to modify its velocity or can the agent find the light efficiently by running at a constant velocity of say 0.01? Show your work."
   ]
  },
  {
   "cell_type": "code",
   "execution_count": 3,
   "metadata": {},
   "outputs": [],
   "source": [
    "import matplotlib.pyplot as plt"
   ]
  },
  {
   "cell_type": "code",
   "execution_count": 5,
   "metadata": {},
   "outputs": [
    {
     "data": {
      "image/png": "[encoded data removed]",
      "text/plain": [
       "<Figure size 432x288 with 1 Axes>"
      ]
     },
     "metadata": {
      "needs_background": "light"
     },
     "output_type": "display_data"
    }
   ],
   "source": [
    "a = Vehicle()\n",
    "b = Light()\n",
    "duration = 5000\n",
    "xpos = np.zeros(duration)\n",
    "ypos = np.zeros(duration)\n",
    "for t in range(duration):\n",
    "    a.sense(b)\n",
    "    a.think()\n",
    "    a.move()\n",
    "    xpos[t] = a.xpos\n",
    "    ypos[t] = a.ypos\n",
    "plt.plot(0.0,0.0,\"ko\")\n",
    "plt.scatter(xpos,ypos,s=0.5,c=range(duration),cmap=\"plasma\")\n",
    "plt.plot(b.x,b.y,\"ro\")\n",
    "plt.show()"
   ]
  },
  {
   "cell_type": "markdown",
   "metadata": {},
   "source": [
    "(3 points) Second, if you ran the same experiment 100 times, with lights placed in different random locations (but at the same initial distance from the vehicle), what does the plot of the average distance of the vehicle to the light over time look like?  If your vehicle can find the light, then this plot should start at the initial distance (10 units of space at time zero) and then progressively get closer and closer to the light source, nearing 0 distance. "
   ]
  },
  {
   "cell_type": "code",
   "execution_count": null,
   "metadata": {},
   "outputs": [],
   "source": []
  },
  {
   "cell_type": "markdown",
   "metadata": {},
   "source": [
    "(6 points) Final, open ended question: Choose your own adventure. Attempt to explore a different vehicle or attempt to answer any other additional question about this autonomous agent. For example, what is the role of noise on the orientation? Does noise help the agent do a better job at finding the light or does it hinder it? What is the effect of the amount of noise on the performance of this lightfinder. Or, can this same agent find a light that is moving randomly while the agent is try to find it? Show your work. Discuss your findings."
   ]
  },
  {
   "cell_type": "code",
   "execution_count": null,
   "metadata": {},
   "outputs": [],
   "source": []
  }
 ],
 "metadata": {
  "kernelspec": {
   "display_name": "Python 3",
   "language": "python",
   "name": "python3"
  },
  "language_info": {
   "codemirror_mode": {
    "name": "ipython",
    "version": 3
   },
   "file_extension": ".py",
   "mimetype": "text/x-python",
   "name": "python",
   "nbconvert_exporter": "python",
   "pygments_lexer": "ipython3",
   "version": "3.7.4"
  }
 },
 "nbformat": 4,
 "nbformat_minor": 4
}
