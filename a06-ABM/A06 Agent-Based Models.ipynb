{
 "cells": [
  {
   "cell_type": "markdown",
   "metadata": {},
   "source": [
    "## A06: Agent-Based Model: Thomas Schelling's Segregation Model"
   ]
  },
  {
   "cell_type": "markdown",
   "metadata": {},
   "source": [
    "In 1971 Thomas Schelling published “Dynamic Models of Segregation,” which proposes a simple model of racial segregation. The Schelling model of the world is a grid; each cell represents a house. The houses are occupied by two kinds of “agents,” labeled red and blue, in roughly equal numbers. About 10% of the houses are empty.\n",
    "\n",
    "At any point in time, an agent might be happy or unhappy, depending on the other agents in its immediate neighborhood. The neighborhood of each house is the set of eight adjacent cells. In one version of the model, agents are happy if they have at least two neighbors like themselves, and unhappy if they have one or zero.\n",
    "\n",
    "The simulation proceeds by choosing an agent at random and checking to see whether it is happy. If so, then nothing happens; if not, the agent chooses one of the unoccupied cells at random and moves.\n",
    "\n",
    "Schelling demonstrated his model with coins on a chess =board. We get the privilege to use a computer. \n",
    "\n",
    "The class below is one implementation of the basics of this simulation. (You are welcome to use this one, but you are also welcome to change it, or indeed make your own)."
   ]
  },
  {
   "cell_type": "code",
   "execution_count": 1,
   "metadata": {},
   "outputs": [],
   "source": [
    "import numpy as np\n",
    "import matplotlib.pyplot as plt"
   ]
  },
  {
   "cell_type": "code",
   "execution_count": 2,
   "metadata": {},
   "outputs": [],
   "source": [
    "class City():\n",
    "\n",
    "    def __init__(self, size, proportions, threshold):\n",
    "        self.size = size        \n",
    "        self.pop = np.random.choice([-1,0,1],p=proportions,size=(size,size))\n",
    "        self.threshold = threshold\n",
    "        \n",
    "    def show(self):\n",
    "        plt.imshow(self.pop, interpolation=\"nearest\", cmap=\"bwr\")\n",
    "        plt.xticks([])\n",
    "        plt.yticks([])\n",
    "        plt.show()        \n",
    "        \n",
    "    def step(self):\n",
    "        # pick random house\n",
    "        i,j = self.randomHouse()\n",
    "        # find a place to move to if it's unhappy\n",
    "        if self.numberKin(i,j) < self.threshold:\n",
    "            self.move(i,j)        \n",
    "        \n",
    "    def numberKin(self, i, j):\n",
    "        return np.count_nonzero(self.pop[i-1:i+2,j-1:j+2]==self.pop[i,j])-1\n",
    "\n",
    "    def move(self, i, j):\n",
    "        newi,newj = self.randomVacant()\n",
    "        self.pop[newi][newj] = self.pop[i][j]\n",
    "        self.pop[i][j] = 0\n",
    "        \n",
    "    def randomHouse(self):\n",
    "        found = False\n",
    "        while not found:\n",
    "            i = np.random.randint(1,self.size-1)\n",
    "            j = np.random.randint(1,self.size-1)\n",
    "            if self.pop[i][j] != 0:\n",
    "                found = True\n",
    "        return i, j\n",
    "\n",
    "    def randomVacant(self):\n",
    "        np.where(self.pop==0)\n",
    "        found = False\n",
    "        while not found:\n",
    "            i = np.random.randint(1,self.size-1)\n",
    "            j = np.random.randint(1,self.size-1)\n",
    "            if self.pop[i][j] == 0:\n",
    "                found = True\n",
    "        return i, j\n",
    "           "
   ]
  },
  {
   "cell_type": "code",
   "execution_count": 3,
   "metadata": {},
   "outputs": [],
   "source": [
    "def run(threshold):\n",
    "    c = City(50,[0.45,0.1,0.45],threshold)\n",
    "    moves = 1000000\n",
    "    c.show()\n",
    "    for i in range(moves):\n",
    "        c.step()\n",
    "    c.show()"
   ]
  },
  {
   "cell_type": "code",
   "execution_count": 6,
   "metadata": {},
   "outputs": [
    {
     "data": {
      "image/png": "[encoded data removed]",
      "text/plain": [
       "<Figure size 432x288 with 1 Axes>"
      ]
     },
     "metadata": {},
     "output_type": "display_data"
    },
    {
     "data": {
      "image/png": "[encoded data removed]",
      "text/plain": [
       "<Figure size 432x288 with 1 Axes>"
      ]
     },
     "metadata": {},
     "output_type": "display_data"
    }
   ],
   "source": [
    "run(5)"
   ]
  },
  {
   "cell_type": "markdown",
   "metadata": {},
   "source": [
    "1. (3 points) What happens when the agents become more/less tolerant? Show the final outcome for each different threshold of happiness. Interpret your results (as in, explain what you get for threshold = 0, 1, 2, ... 8 and why you think you see the results that you see). "
   ]
  },
  {
   "cell_type": "code",
   "execution_count": null,
   "metadata": {},
   "outputs": [],
   "source": []
  },
  {
   "cell_type": "markdown",
   "metadata": {},
   "source": [
    "2. (3 points) Define a statistic that measures the degree of segregation. Add this as a method to the class. Call the method segindex(). Plot this statistic over time. Plot it for one threshold of your choice."
   ]
  },
  {
   "cell_type": "code",
   "execution_count": null,
   "metadata": {},
   "outputs": [],
   "source": []
  },
  {
   "cell_type": "markdown",
   "metadata": {},
   "source": [
    "3. (3 points) Let's revisit the first question but now using this more succint measurement. How does the tolerance or threshold of happiness affect the final segregation index? To answer this question, plot the final segregation threshold as a function of threshold. Does your segregation index capture well the results that you observed from your experiment in question 1? If not, fix your segregation index so that it does. Interpret your results."
   ]
  },
  {
   "cell_type": "code",
   "execution_count": null,
   "metadata": {},
   "outputs": [],
   "source": []
  },
  {
   "cell_type": "markdown",
   "metadata": {},
   "source": [
    "4. (3 points) Now that your segregation index works well, let's ask more questions about this model to understand it better. Let's discuss the role of vacant homes: How does vacancy affect the final segregation index of the city? To answer this question, pick a threshold and keep it fixed, and instead vary the proportion of vacancies systematically from 0 to 1. Make sure you make a hypothesis and even write it down, before you run your experiment. Did what you think would happen happened? Explain whether your prediction matched the results."
   ]
  },
  {
   "cell_type": "code",
   "execution_count": null,
   "metadata": {},
   "outputs": [],
   "source": []
  },
  {
   "cell_type": "markdown",
   "metadata": {},
   "source": [
    "5. (8 points) Open ended. Select one way to extend/modify the model. Find a question to ask about the model (like the questions before this one). Answer your question with an experiment and visualize it with a figure. Interpret and discuss your results."
   ]
  },
  {
   "cell_type": "code",
   "execution_count": null,
   "metadata": {},
   "outputs": [],
   "source": []
  }
 ],
 "metadata": {
  "kernelspec": {
   "display_name": "Python 3",
   "language": "python",
   "name": "python3"
  },
  "language_info": {
   "codemirror_mode": {
    "name": "ipython",
    "version": 3
   },
   "file_extension": ".py",
   "mimetype": "text/x-python",
   "name": "python",
   "nbconvert_exporter": "python",
   "pygments_lexer": "ipython3",
   "version": "3.7.4"
  }
 },
 "nbformat": 4,
 "nbformat_minor": 4
}
